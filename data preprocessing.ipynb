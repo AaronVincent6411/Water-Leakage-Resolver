{
 "cells": [
  {
   "cell_type": "code",
   "execution_count": 5,
   "metadata": {},
   "outputs": [],
   "source": [
    "import pandas as pd\n",
    "import glob \n",
    "import numpy as np\n",
    "import matplotlib.pyplot as plt"
   ]
  },
  {
   "cell_type": "code",
   "execution_count": 6,
   "metadata": {},
   "outputs": [],
   "source": [
    "path = '/home/lionex/bin/Python/Water-Leakage-Resolver/Digital Meter Data  - July 2022/'\n",
    "csv_file = glob.glob(path + '*.csv')"
   ]
  },
  {
   "cell_type": "code",
   "execution_count": 7,
   "metadata": {},
   "outputs": [
    {
     "name": "stderr",
     "output_type": "stream",
     "text": [
      "/tmp/ipykernel_249503/3243707724.py:3: FutureWarning: The frame.append method is deprecated and will be removed from pandas in a future version. Use pandas.concat instead.\n",
      "  data = data.append(pd.read_csv(file))\n",
      "/tmp/ipykernel_249503/3243707724.py:3: FutureWarning: The frame.append method is deprecated and will be removed from pandas in a future version. Use pandas.concat instead.\n",
      "  data = data.append(pd.read_csv(file))\n",
      "/tmp/ipykernel_249503/3243707724.py:3: FutureWarning: The frame.append method is deprecated and will be removed from pandas in a future version. Use pandas.concat instead.\n",
      "  data = data.append(pd.read_csv(file))\n",
      "/tmp/ipykernel_249503/3243707724.py:3: FutureWarning: The frame.append method is deprecated and will be removed from pandas in a future version. Use pandas.concat instead.\n",
      "  data = data.append(pd.read_csv(file))\n",
      "/tmp/ipykernel_249503/3243707724.py:3: FutureWarning: The frame.append method is deprecated and will be removed from pandas in a future version. Use pandas.concat instead.\n",
      "  data = data.append(pd.read_csv(file))\n",
      "/tmp/ipykernel_249503/3243707724.py:3: FutureWarning: The frame.append method is deprecated and will be removed from pandas in a future version. Use pandas.concat instead.\n",
      "  data = data.append(pd.read_csv(file))\n",
      "/tmp/ipykernel_249503/3243707724.py:3: FutureWarning: The frame.append method is deprecated and will be removed from pandas in a future version. Use pandas.concat instead.\n",
      "  data = data.append(pd.read_csv(file))\n",
      "/tmp/ipykernel_249503/3243707724.py:3: FutureWarning: The frame.append method is deprecated and will be removed from pandas in a future version. Use pandas.concat instead.\n",
      "  data = data.append(pd.read_csv(file))\n",
      "/tmp/ipykernel_249503/3243707724.py:3: FutureWarning: The frame.append method is deprecated and will be removed from pandas in a future version. Use pandas.concat instead.\n",
      "  data = data.append(pd.read_csv(file))\n",
      "/tmp/ipykernel_249503/3243707724.py:3: FutureWarning: The frame.append method is deprecated and will be removed from pandas in a future version. Use pandas.concat instead.\n",
      "  data = data.append(pd.read_csv(file))\n"
     ]
    }
   ],
   "source": [
    "data = pd.DataFrame()\n",
    "for file in csv_file:\n",
    "    data = data.append(pd.read_csv(file))"
   ]
  },
  {
   "cell_type": "code",
   "execution_count": 8,
   "metadata": {},
   "outputs": [],
   "source": [
    "data.to_csv('Digital_Meter_Data_July.csv', index=False)"
   ]
  },
  {
   "cell_type": "code",
   "execution_count": 4,
   "metadata": {},
   "outputs": [],
   "source": [
    "path = '/home/lionex/bin/Python/Water-Leakage-Resolver/Digital_Meter_Data_July.csv'\n",
    "water_data = pd.read_csv(path)"
   ]
  },
  {
   "cell_type": "code",
   "execution_count": 5,
   "metadata": {},
   "outputs": [
    {
     "data": {
      "text/plain": [
       "(4000, 5)"
      ]
     },
     "execution_count": 5,
     "metadata": {},
     "output_type": "execute_result"
    }
   ],
   "source": [
    "water_data.shape"
   ]
  },
  {
   "cell_type": "code",
   "execution_count": 6,
   "metadata": {},
   "outputs": [
    {
     "data": {
      "text/html": [
       "<div>\n",
       "<style scoped>\n",
       "    .dataframe tbody tr th:only-of-type {\n",
       "        vertical-align: middle;\n",
       "    }\n",
       "\n",
       "    .dataframe tbody tr th {\n",
       "        vertical-align: top;\n",
       "    }\n",
       "\n",
       "    .dataframe thead th {\n",
       "        text-align: right;\n",
       "    }\n",
       "</style>\n",
       "<table border=\"1\" class=\"dataframe\">\n",
       "  <thead>\n",
       "    <tr style=\"text-align: right;\">\n",
       "      <th></th>\n",
       "      <th>Date</th>\n",
       "      <th>CustomerID</th>\n",
       "      <th>typeM</th>\n",
       "      <th>Series</th>\n",
       "      <th>Value</th>\n",
       "    </tr>\n",
       "  </thead>\n",
       "  <tbody>\n",
       "    <tr>\n",
       "      <th>0</th>\n",
       "      <td>2022-06-30</td>\n",
       "      <td>83001</td>\n",
       "      <td>Pulse1</td>\n",
       "      <td>P1</td>\n",
       "      <td>10488</td>\n",
       "    </tr>\n",
       "    <tr>\n",
       "      <th>1</th>\n",
       "      <td>2022-06-30</td>\n",
       "      <td>83002</td>\n",
       "      <td>Pulse1_Total</td>\n",
       "      <td>T1</td>\n",
       "      <td>11846</td>\n",
       "    </tr>\n",
       "    <tr>\n",
       "      <th>2</th>\n",
       "      <td>2022-06-30</td>\n",
       "      <td>83003</td>\n",
       "      <td>Switch2</td>\n",
       "      <td>SW2</td>\n",
       "      <td>7064</td>\n",
       "    </tr>\n",
       "    <tr>\n",
       "      <th>3</th>\n",
       "      <td>2022-06-30</td>\n",
       "      <td>83004</td>\n",
       "      <td>Pulse1_Total</td>\n",
       "      <td>T1</td>\n",
       "      <td>9703</td>\n",
       "    </tr>\n",
       "    <tr>\n",
       "      <th>4</th>\n",
       "      <td>2022-06-30</td>\n",
       "      <td>83005</td>\n",
       "      <td>Pulse1</td>\n",
       "      <td>P1</td>\n",
       "      <td>6589</td>\n",
       "    </tr>\n",
       "    <tr>\n",
       "      <th>...</th>\n",
       "      <td>...</td>\n",
       "      <td>...</td>\n",
       "      <td>...</td>\n",
       "      <td>...</td>\n",
       "      <td>...</td>\n",
       "    </tr>\n",
       "    <tr>\n",
       "      <th>3995</th>\n",
       "      <td>2022-07-01</td>\n",
       "      <td>84996</td>\n",
       "      <td>Pulse1_Total</td>\n",
       "      <td>T1</td>\n",
       "      <td>5119</td>\n",
       "    </tr>\n",
       "    <tr>\n",
       "      <th>3996</th>\n",
       "      <td>2022-07-01</td>\n",
       "      <td>84997</td>\n",
       "      <td>Pulse1</td>\n",
       "      <td>P1</td>\n",
       "      <td>2442</td>\n",
       "    </tr>\n",
       "    <tr>\n",
       "      <th>3997</th>\n",
       "      <td>2022-07-01</td>\n",
       "      <td>84998</td>\n",
       "      <td>Pulse1_Total</td>\n",
       "      <td>T1</td>\n",
       "      <td>9597</td>\n",
       "    </tr>\n",
       "    <tr>\n",
       "      <th>3998</th>\n",
       "      <td>2022-07-01</td>\n",
       "      <td>84999</td>\n",
       "      <td>Pulse1</td>\n",
       "      <td>P1</td>\n",
       "      <td>4360</td>\n",
       "    </tr>\n",
       "    <tr>\n",
       "      <th>3999</th>\n",
       "      <td>2022-07-01</td>\n",
       "      <td>85000</td>\n",
       "      <td>Pulse1_Total</td>\n",
       "      <td>T1</td>\n",
       "      <td>606</td>\n",
       "    </tr>\n",
       "  </tbody>\n",
       "</table>\n",
       "<p>4000 rows × 5 columns</p>\n",
       "</div>"
      ],
      "text/plain": [
       "            Date  CustomerID         typeM Series  Value\n",
       "0     2022-06-30       83001        Pulse1     P1  10488\n",
       "1     2022-06-30       83002  Pulse1_Total     T1  11846\n",
       "2     2022-06-30       83003       Switch2    SW2   7064\n",
       "3     2022-06-30       83004  Pulse1_Total     T1   9703\n",
       "4     2022-06-30       83005        Pulse1     P1   6589\n",
       "...          ...         ...           ...    ...    ...\n",
       "3995  2022-07-01       84996  Pulse1_Total     T1   5119\n",
       "3996  2022-07-01       84997        Pulse1     P1   2442\n",
       "3997  2022-07-01       84998  Pulse1_Total     T1   9597\n",
       "3998  2022-07-01       84999        Pulse1     P1   4360\n",
       "3999  2022-07-01       85000  Pulse1_Total     T1    606\n",
       "\n",
       "[4000 rows x 5 columns]"
      ]
     },
     "execution_count": 6,
     "metadata": {},
     "output_type": "execute_result"
    }
   ],
   "source": [
    "water_data"
   ]
  },
  {
   "cell_type": "code",
   "execution_count": 7,
   "metadata": {},
   "outputs": [
    {
     "name": "stdout",
     "output_type": "stream",
     "text": [
      "<class 'pandas.core.frame.DataFrame'>\n",
      "RangeIndex: 4000 entries, 0 to 3999\n",
      "Data columns (total 5 columns):\n",
      " #   Column      Non-Null Count  Dtype \n",
      "---  ------      --------------  ----- \n",
      " 0   Date        4000 non-null   object\n",
      " 1   CustomerID  4000 non-null   int64 \n",
      " 2   typeM       4000 non-null   object\n",
      " 3   Series      4000 non-null   object\n",
      " 4   Value       4000 non-null   int64 \n",
      "dtypes: int64(2), object(3)\n",
      "memory usage: 156.4+ KB\n"
     ]
    }
   ],
   "source": [
    "water_data.info()"
   ]
  },
  {
   "cell_type": "code",
   "execution_count": 8,
   "metadata": {},
   "outputs": [
    {
     "data": {
      "text/html": [
       "<div>\n",
       "<style scoped>\n",
       "    .dataframe tbody tr th:only-of-type {\n",
       "        vertical-align: middle;\n",
       "    }\n",
       "\n",
       "    .dataframe tbody tr th {\n",
       "        vertical-align: top;\n",
       "    }\n",
       "\n",
       "    .dataframe thead th {\n",
       "        text-align: right;\n",
       "    }\n",
       "</style>\n",
       "<table border=\"1\" class=\"dataframe\">\n",
       "  <thead>\n",
       "    <tr style=\"text-align: right;\">\n",
       "      <th></th>\n",
       "      <th>CustomerID</th>\n",
       "      <th>Value</th>\n",
       "    </tr>\n",
       "  </thead>\n",
       "  <tbody>\n",
       "    <tr>\n",
       "      <th>count</th>\n",
       "      <td>4000.000000</td>\n",
       "      <td>4000.000000</td>\n",
       "    </tr>\n",
       "    <tr>\n",
       "      <th>mean</th>\n",
       "      <td>84000.500000</td>\n",
       "      <td>6107.920750</td>\n",
       "    </tr>\n",
       "    <tr>\n",
       "      <th>std</th>\n",
       "      <td>577.422379</td>\n",
       "      <td>3457.399256</td>\n",
       "    </tr>\n",
       "    <tr>\n",
       "      <th>min</th>\n",
       "      <td>83001.000000</td>\n",
       "      <td>4.000000</td>\n",
       "    </tr>\n",
       "    <tr>\n",
       "      <th>25%</th>\n",
       "      <td>83500.750000</td>\n",
       "      <td>3163.750000</td>\n",
       "    </tr>\n",
       "    <tr>\n",
       "      <th>50%</th>\n",
       "      <td>84000.500000</td>\n",
       "      <td>6112.500000</td>\n",
       "    </tr>\n",
       "    <tr>\n",
       "      <th>75%</th>\n",
       "      <td>84500.250000</td>\n",
       "      <td>9084.250000</td>\n",
       "    </tr>\n",
       "    <tr>\n",
       "      <th>max</th>\n",
       "      <td>85000.000000</td>\n",
       "      <td>11999.000000</td>\n",
       "    </tr>\n",
       "  </tbody>\n",
       "</table>\n",
       "</div>"
      ],
      "text/plain": [
       "         CustomerID         Value\n",
       "count   4000.000000   4000.000000\n",
       "mean   84000.500000   6107.920750\n",
       "std      577.422379   3457.399256\n",
       "min    83001.000000      4.000000\n",
       "25%    83500.750000   3163.750000\n",
       "50%    84000.500000   6112.500000\n",
       "75%    84500.250000   9084.250000\n",
       "max    85000.000000  11999.000000"
      ]
     },
     "execution_count": 8,
     "metadata": {},
     "output_type": "execute_result"
    }
   ],
   "source": [
    "water_data.describe()"
   ]
  },
  {
   "cell_type": "code",
   "execution_count": null,
   "metadata": {},
   "outputs": [],
   "source": [
    "total_volume_sent = data['Water Volume Sent'].sum()\n",
    "total_water_used = data['Water Used'].sum()\n",
    "water_loss = total_volume_sent - total_water_used\n",
    "print(f\"Total Water Volume Sent: {total_volume_sent} liters\")\n",
    "print(f\"Total Water Used: {total_water_used} liters\")\n",
    "print(f\"Water Loss: {water_loss} liters\")"
   ]
  }
 ],
 "metadata": {
  "kernelspec": {
   "display_name": "Python 3",
   "language": "python",
   "name": "python3"
  },
  "language_info": {
   "codemirror_mode": {
    "name": "ipython",
    "version": 3
   },
   "file_extension": ".py",
   "mimetype": "text/x-python",
   "name": "python",
   "nbconvert_exporter": "python",
   "pygments_lexer": "ipython3",
   "version": "3.10.10"
  },
  "orig_nbformat": 4,
  "vscode": {
   "interpreter": {
    "hash": "e7370f93d1d0cde622a1f8e1c04877d8463912d04d973331ad4851f04de6915a"
   }
  }
 },
 "nbformat": 4,
 "nbformat_minor": 2
}
